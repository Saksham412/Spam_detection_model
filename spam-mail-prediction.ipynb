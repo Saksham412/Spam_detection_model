{
 "cells": [
  {
   "cell_type": "code",
   "execution_count": 1,
   "id": "a62618f7",
   "metadata": {
    "_cell_guid": "b1076dfc-b9ad-4769-8c92-a6c4dae69d19",
    "_uuid": "8f2839f25d086af736a60e9eeb907d3b93b6e0e5",
    "execution": {
     "iopub.execute_input": "2023-10-29T06:03:33.135426Z",
     "iopub.status.busy": "2023-10-29T06:03:33.134297Z",
     "iopub.status.idle": "2023-10-29T06:03:35.597564Z",
     "shell.execute_reply": "2023-10-29T06:03:35.596191Z"
    },
    "papermill": {
     "duration": 2.478995,
     "end_time": "2023-10-29T06:03:35.601165",
     "exception": false,
     "start_time": "2023-10-29T06:03:33.122170",
     "status": "completed"
    },
    "tags": []
   },
   "outputs": [],
   "source": [
    "import numpy as np\n",
    "import pandas as pd\n",
    "from sklearn.model_selection import train_test_split\n",
    "# To convert this to readable file for ML model\n",
    "from sklearn.feature_extraction.text import TfidfVectorizer\n",
    "from sklearn.linear_model import LogisticRegression\n",
    "from sklearn.metrics import accuracy_score"
   ]
  },
  {
   "cell_type": "code",
   "execution_count": 2,
   "id": "4f156732",
   "metadata": {
    "execution": {
     "iopub.execute_input": "2023-10-29T06:03:35.622202Z",
     "iopub.status.busy": "2023-10-29T06:03:35.621514Z",
     "iopub.status.idle": "2023-10-29T06:03:36.253523Z",
     "shell.execute_reply": "2023-10-29T06:03:36.252080Z"
    },
    "papermill": {
     "duration": 0.646887,
     "end_time": "2023-10-29T06:03:36.257515",
     "exception": false,
     "start_time": "2023-10-29T06:03:35.610628",
     "status": "completed"
    },
    "tags": []
   },
   "outputs": [],
   "source": [
    "# loading the data from csv file to a pandas Dataframe\n",
    "raw_mail_data = pd.read_csv('/kaggle/input/spammaildataset/spam_assassin.csv')"
   ]
  },
  {
   "cell_type": "code",
   "execution_count": 3,
   "id": "ddf94654",
   "metadata": {
    "execution": {
     "iopub.execute_input": "2023-10-29T06:03:36.278030Z",
     "iopub.status.busy": "2023-10-29T06:03:36.277522Z",
     "iopub.status.idle": "2023-10-29T06:03:36.303504Z",
     "shell.execute_reply": "2023-10-29T06:03:36.302421Z"
    },
    "papermill": {
     "duration": 0.039612,
     "end_time": "2023-10-29T06:03:36.306531",
     "exception": false,
     "start_time": "2023-10-29T06:03:36.266919",
     "status": "completed"
    },
    "tags": []
   },
   "outputs": [
    {
     "name": "stdout",
     "output_type": "stream",
     "text": [
      "                                                   text  target\n",
      "0     From ilug-admin@linux.ie Mon Jul 29 11:28:02 2...       0\n",
      "1     From gort44@excite.com Mon Jun 24 17:54:21 200...       1\n",
      "2     From fork-admin@xent.com Mon Jul 29 11:39:57 2...       1\n",
      "3     From dcm123@btamail.net.cn Mon Jun 24 17:49:23...       1\n",
      "4     From ilug-admin@linux.ie Mon Aug 19 11:02:47 2...       0\n",
      "...                                                 ...     ...\n",
      "5791  From ilug-admin@linux.ie Mon Jul 22 18:12:45 2...       0\n",
      "5792  From fork-admin@xent.com Mon Oct 7 20:37:02 20...       0\n",
      "5793  Received: from hq.pro-ns.net (localhost [127.0...       1\n",
      "5794  From razor-users-admin@lists.sourceforge.net T...       0\n",
      "5795  From rssfeeds@jmason.org Mon Sep 30 13:44:10 2...       0\n",
      "\n",
      "[5796 rows x 2 columns]\n"
     ]
    }
   ],
   "source": [
    "print(raw_mail_data)"
   ]
  },
  {
   "cell_type": "code",
   "execution_count": 4,
   "id": "4beb8ebe",
   "metadata": {
    "execution": {
     "iopub.execute_input": "2023-10-29T06:03:36.330210Z",
     "iopub.status.busy": "2023-10-29T06:03:36.326557Z",
     "iopub.status.idle": "2023-10-29T06:03:36.344492Z",
     "shell.execute_reply": "2023-10-29T06:03:36.343346Z"
    },
    "papermill": {
     "duration": 0.031541,
     "end_time": "2023-10-29T06:03:36.347474",
     "exception": false,
     "start_time": "2023-10-29T06:03:36.315933",
     "status": "completed"
    },
    "tags": []
   },
   "outputs": [],
   "source": [
    "# Replace the null value with a null string\n",
    "mail_data = raw_mail_data.where((pd.notnull(raw_mail_data)),'')\n",
    "# where(condition, other='') dataframe or series method\n",
    "# used for conditional data replacement.\n",
    "\n",
    "# This is checking for notnull data in raw_ma\n",
    "# replacing it with empty string"
   ]
  },
  {
   "cell_type": "code",
   "execution_count": 5,
   "id": "49847711",
   "metadata": {
    "execution": {
     "iopub.execute_input": "2023-10-29T06:03:36.370128Z",
     "iopub.status.busy": "2023-10-29T06:03:36.368255Z",
     "iopub.status.idle": "2023-10-29T06:03:36.385281Z",
     "shell.execute_reply": "2023-10-29T06:03:36.383961Z"
    },
    "papermill": {
     "duration": 0.031653,
     "end_time": "2023-10-29T06:03:36.388207",
     "exception": false,
     "start_time": "2023-10-29T06:03:36.356554",
     "status": "completed"
    },
    "tags": []
   },
   "outputs": [
    {
     "data": {
      "text/html": [
       "<div>\n",
       "<style scoped>\n",
       "    .dataframe tbody tr th:only-of-type {\n",
       "        vertical-align: middle;\n",
       "    }\n",
       "\n",
       "    .dataframe tbody tr th {\n",
       "        vertical-align: top;\n",
       "    }\n",
       "\n",
       "    .dataframe thead th {\n",
       "        text-align: right;\n",
       "    }\n",
       "</style>\n",
       "<table border=\"1\" class=\"dataframe\">\n",
       "  <thead>\n",
       "    <tr style=\"text-align: right;\">\n",
       "      <th></th>\n",
       "      <th>text</th>\n",
       "      <th>target</th>\n",
       "    </tr>\n",
       "  </thead>\n",
       "  <tbody>\n",
       "    <tr>\n",
       "      <th>0</th>\n",
       "      <td>From ilug-admin@linux.ie Mon Jul 29 11:28:02 2...</td>\n",
       "      <td>0</td>\n",
       "    </tr>\n",
       "    <tr>\n",
       "      <th>1</th>\n",
       "      <td>From gort44@excite.com Mon Jun 24 17:54:21 200...</td>\n",
       "      <td>1</td>\n",
       "    </tr>\n",
       "    <tr>\n",
       "      <th>2</th>\n",
       "      <td>From fork-admin@xent.com Mon Jul 29 11:39:57 2...</td>\n",
       "      <td>1</td>\n",
       "    </tr>\n",
       "    <tr>\n",
       "      <th>3</th>\n",
       "      <td>From dcm123@btamail.net.cn Mon Jun 24 17:49:23...</td>\n",
       "      <td>1</td>\n",
       "    </tr>\n",
       "    <tr>\n",
       "      <th>4</th>\n",
       "      <td>From ilug-admin@linux.ie Mon Aug 19 11:02:47 2...</td>\n",
       "      <td>0</td>\n",
       "    </tr>\n",
       "  </tbody>\n",
       "</table>\n",
       "</div>"
      ],
      "text/plain": [
       "                                                text  target\n",
       "0  From ilug-admin@linux.ie Mon Jul 29 11:28:02 2...       0\n",
       "1  From gort44@excite.com Mon Jun 24 17:54:21 200...       1\n",
       "2  From fork-admin@xent.com Mon Jul 29 11:39:57 2...       1\n",
       "3  From dcm123@btamail.net.cn Mon Jun 24 17:49:23...       1\n",
       "4  From ilug-admin@linux.ie Mon Aug 19 11:02:47 2...       0"
      ]
     },
     "execution_count": 5,
     "metadata": {},
     "output_type": "execute_result"
    }
   ],
   "source": [
    "mail_data.head()"
   ]
  },
  {
   "cell_type": "code",
   "execution_count": 6,
   "id": "a92117ca",
   "metadata": {
    "execution": {
     "iopub.execute_input": "2023-10-29T06:03:36.411124Z",
     "iopub.status.busy": "2023-10-29T06:03:36.409326Z",
     "iopub.status.idle": "2023-10-29T06:03:36.417749Z",
     "shell.execute_reply": "2023-10-29T06:03:36.416674Z"
    },
    "papermill": {
     "duration": 0.022969,
     "end_time": "2023-10-29T06:03:36.421199",
     "exception": false,
     "start_time": "2023-10-29T06:03:36.398230",
     "status": "completed"
    },
    "tags": []
   },
   "outputs": [
    {
     "data": {
      "text/plain": [
       "(5796, 2)"
      ]
     },
     "execution_count": 6,
     "metadata": {},
     "output_type": "execute_result"
    }
   ],
   "source": [
    "mail_data.shape"
   ]
  },
  {
   "cell_type": "code",
   "execution_count": 7,
   "id": "258c468e",
   "metadata": {
    "execution": {
     "iopub.execute_input": "2023-10-29T06:03:36.443614Z",
     "iopub.status.busy": "2023-10-29T06:03:36.442580Z",
     "iopub.status.idle": "2023-10-29T06:03:36.447689Z",
     "shell.execute_reply": "2023-10-29T06:03:36.446598Z"
    },
    "papermill": {
     "duration": 0.019574,
     "end_time": "2023-10-29T06:03:36.450674",
     "exception": false,
     "start_time": "2023-10-29T06:03:36.431100",
     "status": "completed"
    },
    "tags": []
   },
   "outputs": [],
   "source": [
    "## If the target columns was not in the form of 0's and 1's then we can make it in that format\n",
    "# mail_data.loc[mail_data['target'] == 'spam', 'target',] = 0\n",
    "# similarly for not spam"
   ]
  },
  {
   "cell_type": "code",
   "execution_count": 8,
   "id": "f6cebbf4",
   "metadata": {
    "execution": {
     "iopub.execute_input": "2023-10-29T06:03:36.473111Z",
     "iopub.status.busy": "2023-10-29T06:03:36.472133Z",
     "iopub.status.idle": "2023-10-29T06:03:36.478140Z",
     "shell.execute_reply": "2023-10-29T06:03:36.477029Z"
    },
    "papermill": {
     "duration": 0.020685,
     "end_time": "2023-10-29T06:03:36.481041",
     "exception": false,
     "start_time": "2023-10-29T06:03:36.460356",
     "status": "completed"
    },
    "tags": []
   },
   "outputs": [],
   "source": [
    "X = mail_data['text']\n",
    "\n",
    "Y = mail_data['target']"
   ]
  },
  {
   "cell_type": "code",
   "execution_count": 9,
   "id": "645c7be2",
   "metadata": {
    "execution": {
     "iopub.execute_input": "2023-10-29T06:03:36.502824Z",
     "iopub.status.busy": "2023-10-29T06:03:36.501836Z",
     "iopub.status.idle": "2023-10-29T06:03:36.512446Z",
     "shell.execute_reply": "2023-10-29T06:03:36.511118Z"
    },
    "papermill": {
     "duration": 0.025633,
     "end_time": "2023-10-29T06:03:36.516274",
     "exception": false,
     "start_time": "2023-10-29T06:03:36.490641",
     "status": "completed"
    },
    "tags": []
   },
   "outputs": [],
   "source": [
    "X_train, X_test, Y_train, Y_test = train_test_split(X, Y, test_size = 0.2, random_state = 3)"
   ]
  },
  {
   "cell_type": "code",
   "execution_count": 10,
   "id": "4f1385c7",
   "metadata": {
    "execution": {
     "iopub.execute_input": "2023-10-29T06:03:36.539064Z",
     "iopub.status.busy": "2023-10-29T06:03:36.537873Z",
     "iopub.status.idle": "2023-10-29T06:03:36.545051Z",
     "shell.execute_reply": "2023-10-29T06:03:36.543536Z"
    },
    "papermill": {
     "duration": 0.021173,
     "end_time": "2023-10-29T06:03:36.547904",
     "exception": false,
     "start_time": "2023-10-29T06:03:36.526731",
     "status": "completed"
    },
    "tags": []
   },
   "outputs": [
    {
     "name": "stdout",
     "output_type": "stream",
     "text": [
      "4636\n"
     ]
    }
   ],
   "source": [
    "print(X_train.size)"
   ]
  },
  {
   "cell_type": "code",
   "execution_count": 11,
   "id": "797d0731",
   "metadata": {
    "execution": {
     "iopub.execute_input": "2023-10-29T06:03:36.569838Z",
     "iopub.status.busy": "2023-10-29T06:03:36.569287Z",
     "iopub.status.idle": "2023-10-29T06:03:41.965550Z",
     "shell.execute_reply": "2023-10-29T06:03:41.963643Z"
    },
    "papermill": {
     "duration": 5.411145,
     "end_time": "2023-10-29T06:03:41.969045",
     "exception": false,
     "start_time": "2023-10-29T06:03:36.557900",
     "status": "completed"
    },
    "tags": []
   },
   "outputs": [],
   "source": [
    "# transform the text data to feature vectors that can be used as the input to the  Logistic Regression\n",
    "# X_train = [str (item) for item in X_train]\n",
    "# X_test = [str (item) for item in X_test]\n",
    "feature_extraction = TfidfVectorizer(stop_words=None, lowercase=True)\n",
    "\n",
    "X_train_features = feature_extraction.fit_transform(X_train)\n",
    "X_test_features = feature_extraction.transform(X_test)\n",
    "\n",
    "# converting Y_train and Y_test values as integers as they may be in object or some other fomrant\n",
    "\n",
    "Y_train = Y_train.astype('int')\n",
    "Y_test = Y_test.astype('int')"
   ]
  },
  {
   "cell_type": "code",
   "execution_count": 12,
   "id": "6ca716f7",
   "metadata": {
    "execution": {
     "iopub.execute_input": "2023-10-29T06:03:41.990712Z",
     "iopub.status.busy": "2023-10-29T06:03:41.990182Z",
     "iopub.status.idle": "2023-10-29T06:03:42.008704Z",
     "shell.execute_reply": "2023-10-29T06:03:42.007191Z"
    },
    "papermill": {
     "duration": 0.033732,
     "end_time": "2023-10-29T06:03:42.012608",
     "exception": false,
     "start_time": "2023-10-29T06:03:41.978876",
     "status": "completed"
    },
    "tags": []
   },
   "outputs": [
    {
     "name": "stdout",
     "output_type": "stream",
     "text": [
      "  (0, 54077)\t0.05776929993053345\n",
      "  (0, 54457)\t0.053192124624165144\n",
      "  (0, 43290)\t0.04225562533590509\n",
      "  (0, 66911)\t0.03226900509367696\n",
      "  (0, 109370)\t0.06840780262273084\n",
      "  (0, 109855)\t0.04133166801394623\n",
      "  (0, 91055)\t0.054326077427411745\n",
      "  (0, 40086)\t0.0435160127066486\n",
      "  (0, 53714)\t0.025164549637550573\n",
      "  (0, 34688)\t0.05355354221389247\n",
      "  (0, 83007)\t0.01957026422527364\n",
      "  (0, 51324)\t0.05284546295749231\n",
      "  (0, 43340)\t0.03952472704382388\n",
      "  (0, 46851)\t0.017825145348726243\n",
      "  (0, 98007)\t0.02470746900978751\n",
      "  (0, 112700)\t0.012436927554659508\n",
      "  (0, 94479)\t0.05563512986876542\n",
      "  (0, 104213)\t0.032991498727026586\n",
      "  (0, 99539)\t0.0521919073656437\n",
      "  (0, 103880)\t0.043630001419223984\n",
      "  (0, 75934)\t0.04974890212104342\n",
      "  (0, 82998)\t0.0281878558242218\n",
      "  (0, 30980)\t0.034493999888394286\n",
      "  (0, 79647)\t0.031142584026251075\n",
      "  (0, 109602)\t0.02633772667488059\n",
      "  :\t:\n",
      "  (4635, 70900)\t0.014959235899565911\n",
      "  (4635, 102961)\t0.020713258478242142\n",
      "  (4635, 102898)\t0.023931714591802978\n",
      "  (4635, 81755)\t0.03664141188543058\n",
      "  (4635, 102744)\t0.062398329772293724\n",
      "  (4635, 71057)\t0.04082829505570955\n",
      "  (4635, 102738)\t0.016677805200596422\n",
      "  (4635, 103137)\t0.03919888421373257\n",
      "  (4635, 37627)\t0.011266743573978963\n",
      "  (4635, 68218)\t0.03334317380866114\n",
      "  (4635, 79641)\t0.011114391269553714\n",
      "  (4635, 103465)\t0.07227470958057818\n",
      "  (4635, 94174)\t0.01714213410850384\n",
      "  (4635, 69533)\t0.013662483495322284\n",
      "  (4635, 100679)\t0.02225276440101223\n",
      "  (4635, 5044)\t0.039812184984293335\n",
      "  (4635, 4214)\t0.020517582543174998\n",
      "  (4635, 54839)\t0.03889198122357941\n",
      "  (4635, 9683)\t0.04555438273076002\n",
      "  (4635, 19046)\t0.02827022491490437\n",
      "  (4635, 6787)\t0.009935945430687005\n",
      "  (4635, 44461)\t0.011111994635308403\n",
      "  (4635, 82703)\t0.23579754472423428\n",
      "  (4635, 87301)\t0.005764760872130511\n",
      "  (4635, 94528)\t0.005754817250115889\n"
     ]
    }
   ],
   "source": [
    "print(X_train_features)"
   ]
  },
  {
   "cell_type": "code",
   "execution_count": 13,
   "id": "e2ecd5f4",
   "metadata": {
    "execution": {
     "iopub.execute_input": "2023-10-29T06:03:42.037680Z",
     "iopub.status.busy": "2023-10-29T06:03:42.036675Z",
     "iopub.status.idle": "2023-10-29T06:03:42.043851Z",
     "shell.execute_reply": "2023-10-29T06:03:42.042140Z"
    },
    "papermill": {
     "duration": 0.023135,
     "end_time": "2023-10-29T06:03:42.046781",
     "exception": false,
     "start_time": "2023-10-29T06:03:42.023646",
     "status": "completed"
    },
    "tags": []
   },
   "outputs": [],
   "source": [
    "model = LogisticRegression()"
   ]
  },
  {
   "cell_type": "code",
   "execution_count": 14,
   "id": "c95a795a",
   "metadata": {
    "execution": {
     "iopub.execute_input": "2023-10-29T06:03:42.070339Z",
     "iopub.status.busy": "2023-10-29T06:03:42.069769Z",
     "iopub.status.idle": "2023-10-29T06:03:44.778680Z",
     "shell.execute_reply": "2023-10-29T06:03:44.776003Z"
    },
    "papermill": {
     "duration": 2.727063,
     "end_time": "2023-10-29T06:03:44.784062",
     "exception": false,
     "start_time": "2023-10-29T06:03:42.056999",
     "status": "completed"
    },
    "tags": []
   },
   "outputs": [
    {
     "data": {
      "text/html": [
       "<style>#sk-container-id-1 {color: black;background-color: white;}#sk-container-id-1 pre{padding: 0;}#sk-container-id-1 div.sk-toggleable {background-color: white;}#sk-container-id-1 label.sk-toggleable__label {cursor: pointer;display: block;width: 100%;margin-bottom: 0;padding: 0.3em;box-sizing: border-box;text-align: center;}#sk-container-id-1 label.sk-toggleable__label-arrow:before {content: \"▸\";float: left;margin-right: 0.25em;color: #696969;}#sk-container-id-1 label.sk-toggleable__label-arrow:hover:before {color: black;}#sk-container-id-1 div.sk-estimator:hover label.sk-toggleable__label-arrow:before {color: black;}#sk-container-id-1 div.sk-toggleable__content {max-height: 0;max-width: 0;overflow: hidden;text-align: left;background-color: #f0f8ff;}#sk-container-id-1 div.sk-toggleable__content pre {margin: 0.2em;color: black;border-radius: 0.25em;background-color: #f0f8ff;}#sk-container-id-1 input.sk-toggleable__control:checked~div.sk-toggleable__content {max-height: 200px;max-width: 100%;overflow: auto;}#sk-container-id-1 input.sk-toggleable__control:checked~label.sk-toggleable__label-arrow:before {content: \"▾\";}#sk-container-id-1 div.sk-estimator input.sk-toggleable__control:checked~label.sk-toggleable__label {background-color: #d4ebff;}#sk-container-id-1 div.sk-label input.sk-toggleable__control:checked~label.sk-toggleable__label {background-color: #d4ebff;}#sk-container-id-1 input.sk-hidden--visually {border: 0;clip: rect(1px 1px 1px 1px);clip: rect(1px, 1px, 1px, 1px);height: 1px;margin: -1px;overflow: hidden;padding: 0;position: absolute;width: 1px;}#sk-container-id-1 div.sk-estimator {font-family: monospace;background-color: #f0f8ff;border: 1px dotted black;border-radius: 0.25em;box-sizing: border-box;margin-bottom: 0.5em;}#sk-container-id-1 div.sk-estimator:hover {background-color: #d4ebff;}#sk-container-id-1 div.sk-parallel-item::after {content: \"\";width: 100%;border-bottom: 1px solid gray;flex-grow: 1;}#sk-container-id-1 div.sk-label:hover label.sk-toggleable__label {background-color: #d4ebff;}#sk-container-id-1 div.sk-serial::before {content: \"\";position: absolute;border-left: 1px solid gray;box-sizing: border-box;top: 0;bottom: 0;left: 50%;z-index: 0;}#sk-container-id-1 div.sk-serial {display: flex;flex-direction: column;align-items: center;background-color: white;padding-right: 0.2em;padding-left: 0.2em;position: relative;}#sk-container-id-1 div.sk-item {position: relative;z-index: 1;}#sk-container-id-1 div.sk-parallel {display: flex;align-items: stretch;justify-content: center;background-color: white;position: relative;}#sk-container-id-1 div.sk-item::before, #sk-container-id-1 div.sk-parallel-item::before {content: \"\";position: absolute;border-left: 1px solid gray;box-sizing: border-box;top: 0;bottom: 0;left: 50%;z-index: -1;}#sk-container-id-1 div.sk-parallel-item {display: flex;flex-direction: column;z-index: 1;position: relative;background-color: white;}#sk-container-id-1 div.sk-parallel-item:first-child::after {align-self: flex-end;width: 50%;}#sk-container-id-1 div.sk-parallel-item:last-child::after {align-self: flex-start;width: 50%;}#sk-container-id-1 div.sk-parallel-item:only-child::after {width: 0;}#sk-container-id-1 div.sk-dashed-wrapped {border: 1px dashed gray;margin: 0 0.4em 0.5em 0.4em;box-sizing: border-box;padding-bottom: 0.4em;background-color: white;}#sk-container-id-1 div.sk-label label {font-family: monospace;font-weight: bold;display: inline-block;line-height: 1.2em;}#sk-container-id-1 div.sk-label-container {text-align: center;}#sk-container-id-1 div.sk-container {/* jupyter's `normalize.less` sets `[hidden] { display: none; }` but bootstrap.min.css set `[hidden] { display: none !important; }` so we also need the `!important` here to be able to override the default hidden behavior on the sphinx rendered scikit-learn.org. See: https://github.com/scikit-learn/scikit-learn/issues/21755 */display: inline-block !important;position: relative;}#sk-container-id-1 div.sk-text-repr-fallback {display: none;}</style><div id=\"sk-container-id-1\" class=\"sk-top-container\"><div class=\"sk-text-repr-fallback\"><pre>LogisticRegression()</pre><b>In a Jupyter environment, please rerun this cell to show the HTML representation or trust the notebook. <br />On GitHub, the HTML representation is unable to render, please try loading this page with nbviewer.org.</b></div><div class=\"sk-container\" hidden><div class=\"sk-item\"><div class=\"sk-estimator sk-toggleable\"><input class=\"sk-toggleable__control sk-hidden--visually\" id=\"sk-estimator-id-1\" type=\"checkbox\" checked><label for=\"sk-estimator-id-1\" class=\"sk-toggleable__label sk-toggleable__label-arrow\">LogisticRegression</label><div class=\"sk-toggleable__content\"><pre>LogisticRegression()</pre></div></div></div></div></div>"
      ],
      "text/plain": [
       "LogisticRegression()"
      ]
     },
     "execution_count": 14,
     "metadata": {},
     "output_type": "execute_result"
    }
   ],
   "source": [
    "model.fit(X_train_features, Y_train)"
   ]
  },
  {
   "cell_type": "code",
   "execution_count": 15,
   "id": "2f00f3f7",
   "metadata": {
    "execution": {
     "iopub.execute_input": "2023-10-29T06:03:44.834495Z",
     "iopub.status.busy": "2023-10-29T06:03:44.834007Z",
     "iopub.status.idle": "2023-10-29T06:03:44.847694Z",
     "shell.execute_reply": "2023-10-29T06:03:44.846174Z"
    },
    "papermill": {
     "duration": 0.033302,
     "end_time": "2023-10-29T06:03:44.851264",
     "exception": false,
     "start_time": "2023-10-29T06:03:44.817962",
     "status": "completed"
    },
    "tags": []
   },
   "outputs": [],
   "source": [
    "# predictions of training data\n",
    "\n",
    "prediction_on_training_data = model.predict(X_train_features)\n",
    "accuracy_on_training_data = accuracy_score(Y_train, prediction_on_training_data)\n"
   ]
  },
  {
   "cell_type": "code",
   "execution_count": 16,
   "id": "c8e8b657",
   "metadata": {
    "execution": {
     "iopub.execute_input": "2023-10-29T06:03:44.873825Z",
     "iopub.status.busy": "2023-10-29T06:03:44.873281Z",
     "iopub.status.idle": "2023-10-29T06:03:44.879612Z",
     "shell.execute_reply": "2023-10-29T06:03:44.878682Z"
    },
    "papermill": {
     "duration": 0.020892,
     "end_time": "2023-10-29T06:03:44.882492",
     "exception": false,
     "start_time": "2023-10-29T06:03:44.861600",
     "status": "completed"
    },
    "tags": []
   },
   "outputs": [
    {
     "name": "stdout",
     "output_type": "stream",
     "text": [
      "Accuracy on training data:  0.9846850733390854\n"
     ]
    }
   ],
   "source": [
    "print(\"Accuracy on training data: \",accuracy_on_training_data)"
   ]
  },
  {
   "cell_type": "code",
   "execution_count": 17,
   "id": "1ef0ab13",
   "metadata": {
    "execution": {
     "iopub.execute_input": "2023-10-29T06:03:44.905731Z",
     "iopub.status.busy": "2023-10-29T06:03:44.905178Z",
     "iopub.status.idle": "2023-10-29T06:03:44.914448Z",
     "shell.execute_reply": "2023-10-29T06:03:44.912762Z"
    },
    "papermill": {
     "duration": 0.025173,
     "end_time": "2023-10-29T06:03:44.918001",
     "exception": false,
     "start_time": "2023-10-29T06:03:44.892828",
     "status": "completed"
    },
    "tags": []
   },
   "outputs": [],
   "source": [
    "# predictions of testing data\n",
    "\n",
    "prediction_on_testing_data = model.predict(X_test_features)\n",
    "accuracy_on_testing_data = accuracy_score(Y_test, prediction_on_testing_data)\n"
   ]
  },
  {
   "cell_type": "code",
   "execution_count": 18,
   "id": "7586b3d4",
   "metadata": {
    "execution": {
     "iopub.execute_input": "2023-10-29T06:03:44.941305Z",
     "iopub.status.busy": "2023-10-29T06:03:44.940802Z",
     "iopub.status.idle": "2023-10-29T06:03:44.947796Z",
     "shell.execute_reply": "2023-10-29T06:03:44.946176Z"
    },
    "papermill": {
     "duration": 0.022512,
     "end_time": "2023-10-29T06:03:44.950967",
     "exception": false,
     "start_time": "2023-10-29T06:03:44.928455",
     "status": "completed"
    },
    "tags": []
   },
   "outputs": [
    {
     "name": "stdout",
     "output_type": "stream",
     "text": [
      "Accuracy on testing data:  0.978448275862069\n"
     ]
    }
   ],
   "source": [
    "print(\"Accuracy on testing data: \",accuracy_on_testing_data)"
   ]
  },
  {
   "cell_type": "markdown",
   "id": "1cf2dedb",
   "metadata": {
    "papermill": {
     "duration": 0.009849,
     "end_time": "2023-10-29T06:03:44.971318",
     "exception": false,
     "start_time": "2023-10-29T06:03:44.961469",
     "status": "completed"
    },
    "tags": []
   },
   "source": []
  },
  {
   "cell_type": "code",
   "execution_count": 19,
   "id": "590fdd7f",
   "metadata": {
    "execution": {
     "iopub.execute_input": "2023-10-29T06:03:44.994297Z",
     "iopub.status.busy": "2023-10-29T06:03:44.993829Z",
     "iopub.status.idle": "2023-10-29T06:03:45.009945Z",
     "shell.execute_reply": "2023-10-29T06:03:45.008149Z"
    },
    "papermill": {
     "duration": 0.031474,
     "end_time": "2023-10-29T06:03:45.013335",
     "exception": false,
     "start_time": "2023-10-29T06:03:44.981861",
     "status": "completed"
    },
    "tags": []
   },
   "outputs": [
    {
     "name": "stdout",
     "output_type": "stream",
     "text": [
      "Ham mail\n"
     ]
    }
   ],
   "source": [
    "input_mail = [\"From rpm-list-admin@freshrpms.net Thu Jul 25 11:07:39 2002 Return-Path: <rpm-zzzlist-admin@freshrpms.net> Delivered-To: yyyy@localhost.netnoteinc.com Received: from localhost (localhost [127.0.0.1]) by phobos.labs.netnoteinc.com (Postfix) with ESMTP id EEA6E440DE for <jm@localhost>; Thu, 25 Jul 2002 06:06:57 -0400 (EDT) Received: from phobos [127.0.0.1] by localhost with IMAP (fetchmail-5.9.0) for jm@localhost (single-drop); Thu, 25 Jul 2002 11:06:57 +0100 (IST) Received: from egwn.net (ns2.egwn.net [193.172.5.4]) by dogma.slashnull.org (8.11.6/8.11.6) with ESMTP id g6P9DX410161 for <jm-rpm@jmason.org>; Thu, 25 Jul 2002 10:13:33 +0100 Received: from auth02.nl.egwn.net (localhost [127.0.0.1]) by egwn.net (8.11.6/8.11.6/EGWN) with ESMTP id g6P982C17538; Thu, 25 Jul 2002 11:08:02 +0200 Received: from python (gw01.es3.egwn.net [212.9.66.13]) (authenticated) by egwn.net (8.11.6/8.11.6/EGWN) with ESMTP id g6P97FC17276 for <rpm-list@freshrpms.net>; Thu, 25 Jul 2002 11:07:16 +0200 From: Matthias Saou <matthias@egwn.net> To: rpm-zzzlist@freshrpms.net Subject: Sylpheed with GNOME 2 (was Re: Ximian apt repos?) Message-Id: <20020725110700.3797c42e.matthias@egwn.net> In-Reply-To: <1027579516.15921.18.camel@localhost.localdomain> References: <20020724.FRs.59646600@www.dudex.net> <1027537563.18947.12.camel@fuggles> <1027579516.15921.18.camel@localhost.localdomain> Organization: Electronic Group Interactive X-Mailer: Sylpheed version 0.8.0claws (GTK+ 1.2.10; i386-redhat-linux) Reply-BY: Tue, 24 Jul 2000 19:02:00 +1000 X-Operating-System: GNU/Linux power! X-Message-Flag: Try using a real operating system : GNU/Linux power! MIME-Version: 1.0 Content-Type: text/plain; charset=US-ASCII Content-Transfer-Encoding: 7bit X-Mailscanner: Found to be clean, Found to be clean Sender: rpm-zzzlist-admin@freshrpms.net Errors-To: rpm-zzzlist-admin@freshrpms.net X-Beenthere: rpm-zzzlist@freshrpms.net X-Mailman-Version: 2.0.11 Precedence: bulk Reply-To: rpm-zzzlist@freshrpms.net List-Help: <mailto:rpm-zzzlist-request@freshrpms.net?subject=help> List-Post: <mailto:rpm-zzzlist@freshrpms.net> List-Subscribe: <http://lists.freshrpms.net/mailman/listinfo/rpm-zzzlist>, <mailto:rpm-list-request@freshrpms.net?subject=subscribe> List-Id: Freshrpms RPM discussion list <rpm-zzzlist.freshrpms.net> List-Unsubscribe: <http://lists.freshrpms.net/mailman/listinfo/rpm-zzzlist>, <mailto:rpm-list-request@freshrpms.net?subject=unsubscribe> List-Archive: <http://lists.freshrpms.net/pipermail/rpm-zzzlist/> X-Original-Date: Thu, 25 Jul 2002 11:07:00 +0200 Date: Thu, 25 Jul 2002 11:07:00 +0200 Once upon a time, Lance wrote : > Well, from the looks of things, I can import all my mail settings from > Evolution to Sylpheed. Has anyone successfully run Sylpheed in Gnome > 2.0? I noticed with 'apt-get install gnome-session'\"]\n",
    "\n",
    "#Converting mail to feature vector\n",
    "input_data_feature = feature_extraction.transform(input_mail)\n",
    "\n",
    "#Predicting\n",
    "\n",
    "prediction = model.predict(input_data_feature);\n",
    "\n",
    "if(prediction[0] == 1):\n",
    "  print(\"Spam Mail\")\n",
    "else:\n",
    "  print(\"Ham mail\")\n"
   ]
  },
  {
   "cell_type": "code",
   "execution_count": 20,
   "id": "1f61e9ed",
   "metadata": {
    "execution": {
     "iopub.execute_input": "2023-10-29T06:03:45.036868Z",
     "iopub.status.busy": "2023-10-29T06:03:45.036360Z",
     "iopub.status.idle": "2023-10-29T06:03:45.042495Z",
     "shell.execute_reply": "2023-10-29T06:03:45.040718Z"
    },
    "papermill": {
     "duration": 0.021829,
     "end_time": "2023-10-29T06:03:45.045749",
     "exception": false,
     "start_time": "2023-10-29T06:03:45.023920",
     "status": "completed"
    },
    "tags": []
   },
   "outputs": [],
   "source": [
    "import pickle"
   ]
  },
  {
   "cell_type": "code",
   "execution_count": 21,
   "id": "5e6d1941",
   "metadata": {
    "execution": {
     "iopub.execute_input": "2023-10-29T06:03:45.069239Z",
     "iopub.status.busy": "2023-10-29T06:03:45.068754Z",
     "iopub.status.idle": "2023-10-29T06:03:45.076162Z",
     "shell.execute_reply": "2023-10-29T06:03:45.074953Z"
    },
    "papermill": {
     "duration": 0.022868,
     "end_time": "2023-10-29T06:03:45.079435",
     "exception": false,
     "start_time": "2023-10-29T06:03:45.056567",
     "status": "completed"
    },
    "tags": []
   },
   "outputs": [],
   "source": [
    "filename = 'trained_model.sav'\n",
    "\n",
    "with open(filename, 'wb') as file:\n",
    "    pickle.dump(model, file)"
   ]
  },
  {
   "cell_type": "code",
   "execution_count": 22,
   "id": "6eee9b05",
   "metadata": {
    "execution": {
     "iopub.execute_input": "2023-10-29T06:03:45.102984Z",
     "iopub.status.busy": "2023-10-29T06:03:45.102409Z",
     "iopub.status.idle": "2023-10-29T06:03:45.109037Z",
     "shell.execute_reply": "2023-10-29T06:03:45.107867Z"
    },
    "papermill": {
     "duration": 0.022065,
     "end_time": "2023-10-29T06:03:45.111885",
     "exception": false,
     "start_time": "2023-10-29T06:03:45.089820",
     "status": "completed"
    },
    "tags": []
   },
   "outputs": [],
   "source": [
    "with open(filename, 'rb') as file:\n",
    "    loaded_model = pickle.load(file)"
   ]
  },
  {
   "cell_type": "code",
   "execution_count": 23,
   "id": "bb23751b",
   "metadata": {
    "execution": {
     "iopub.execute_input": "2023-10-29T06:03:45.134942Z",
     "iopub.status.busy": "2023-10-29T06:03:45.134435Z",
     "iopub.status.idle": "2023-10-29T06:03:45.149975Z",
     "shell.execute_reply": "2023-10-29T06:03:45.147996Z"
    },
    "papermill": {
     "duration": 0.031102,
     "end_time": "2023-10-29T06:03:45.153306",
     "exception": false,
     "start_time": "2023-10-29T06:03:45.122204",
     "status": "completed"
    },
    "tags": []
   },
   "outputs": [
    {
     "name": "stdout",
     "output_type": "stream",
     "text": [
      "Ham mail\n"
     ]
    }
   ],
   "source": [
    "input_mail = [\"From rpm-list-admin@freshrpms.net Thu Jul 25 11:07:39 2002 Return-Path: <rpm-zzzlist-admin@freshrpms.net> Delivered-To: yyyy@localhost.netnoteinc.com Received: from localhost (localhost [127.0.0.1]) by phobos.labs.netnoteinc.com (Postfix) with ESMTP id EEA6E440DE for <jm@localhost>; Thu, 25 Jul 2002 06:06:57 -0400 (EDT) Received: from phobos [127.0.0.1] by localhost with IMAP (fetchmail-5.9.0) for jm@localhost (single-drop); Thu, 25 Jul 2002 11:06:57 +0100 (IST) Received: from egwn.net (ns2.egwn.net [193.172.5.4]) by dogma.slashnull.org (8.11.6/8.11.6) with ESMTP id g6P9DX410161 for <jm-rpm@jmason.org>; Thu, 25 Jul 2002 10:13:33 +0100 Received: from auth02.nl.egwn.net (localhost [127.0.0.1]) by egwn.net (8.11.6/8.11.6/EGWN) with ESMTP id g6P982C17538; Thu, 25 Jul 2002 11:08:02 +0200 Received: from python (gw01.es3.egwn.net [212.9.66.13]) (authenticated) by egwn.net (8.11.6/8.11.6/EGWN) with ESMTP id g6P97FC17276 for <rpm-list@freshrpms.net>; Thu, 25 Jul 2002 11:07:16 +0200 From: Matthias Saou <matthias@egwn.net> To: rpm-zzzlist@freshrpms.net Subject: Sylpheed with GNOME 2 (was Re: Ximian apt repos?) Message-Id: <20020725110700.3797c42e.matthias@egwn.net> In-Reply-To: <1027579516.15921.18.camel@localhost.localdomain> References: <20020724.FRs.59646600@www.dudex.net> <1027537563.18947.12.camel@fuggles> <1027579516.15921.18.camel@localhost.localdomain> Organization: Electronic Group Interactive X-Mailer: Sylpheed version 0.8.0claws (GTK+ 1.2.10; i386-redhat-linux) Reply-BY: Tue, 24 Jul 2000 19:02:00 +1000 X-Operating-System: GNU/Linux power! X-Message-Flag: Try using a real operating system : GNU/Linux power! MIME-Version: 1.0 Content-Type: text/plain; charset=US-ASCII Content-Transfer-Encoding: 7bit X-Mailscanner: Found to be clean, Found to be clean Sender: rpm-zzzlist-admin@freshrpms.net Errors-To: rpm-zzzlist-admin@freshrpms.net X-Beenthere: rpm-zzzlist@freshrpms.net X-Mailman-Version: 2.0.11 Precedence: bulk Reply-To: rpm-zzzlist@freshrpms.net List-Help: <mailto:rpm-zzzlist-request@freshrpms.net?subject=help> List-Post: <mailto:rpm-zzzlist@freshrpms.net> List-Subscribe: <http://lists.freshrpms.net/mailman/listinfo/rpm-zzzlist>, <mailto:rpm-list-request@freshrpms.net?subject=subscribe> List-Id: Freshrpms RPM discussion list <rpm-zzzlist.freshrpms.net> List-Unsubscribe: <http://lists.freshrpms.net/mailman/listinfo/rpm-zzzlist>, <mailto:rpm-list-request@freshrpms.net?subject=unsubscribe> List-Archive: <http://lists.freshrpms.net/pipermail/rpm-zzzlist/> X-Original-Date: Thu, 25 Jul 2002 11:07:00 +0200 Date: Thu, 25 Jul 2002 11:07:00 +0200 Once upon a time, Lance wrote : > Well, from the looks of things, I can import all my mail settings from > Evolution to Sylpheed. Has anyone successfully run Sylpheed in Gnome > 2.0? I noticed with 'apt-get install gnome-session'\"]\n",
    "\n",
    "#Converting mail to feature vector\n",
    "input_data_feature = feature_extraction.transform(input_mail)\n",
    "#Predicting\n",
    "\n",
    "prediction = loaded_model.predict(input_data_feature);\n",
    "\n",
    "if(prediction[0] == 1):\n",
    "  print(\"Spam Mail\")\n",
    "else:\n",
    "  print(\"Ham mail\")\n"
   ]
  },
  {
   "cell_type": "code",
   "execution_count": null,
   "id": "4c374fac",
   "metadata": {
    "papermill": {
     "duration": 0.010142,
     "end_time": "2023-10-29T06:03:45.174014",
     "exception": false,
     "start_time": "2023-10-29T06:03:45.163872",
     "status": "completed"
    },
    "tags": []
   },
   "outputs": [],
   "source": []
  }
 ],
 "metadata": {
  "kernelspec": {
   "display_name": "Python 3",
   "language": "python",
   "name": "python3"
  },
  "language_info": {
   "codemirror_mode": {
    "name": "ipython",
    "version": 3
   },
   "file_extension": ".py",
   "mimetype": "text/x-python",
   "name": "python",
   "nbconvert_exporter": "python",
   "pygments_lexer": "ipython3",
   "version": "3.10.12"
  },
  "papermill": {
   "default_parameters": {},
   "duration": 17.331932,
   "end_time": "2023-10-29T06:03:46.010069",
   "environment_variables": {},
   "exception": null,
   "input_path": "__notebook__.ipynb",
   "output_path": "__notebook__.ipynb",
   "parameters": {},
   "start_time": "2023-10-29T06:03:28.678137",
   "version": "2.4.0"
  }
 },
 "nbformat": 4,
 "nbformat_minor": 5
}
